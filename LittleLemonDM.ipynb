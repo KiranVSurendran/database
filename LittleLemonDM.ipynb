{
 "cells": [
  {
   "metadata": {},
   "cell_type": "code",
   "source": [
    "!pip install --upgrade pip\n",
    "!pip install mysql-connector-python"
   ],
   "id": "46163146644244a8",
   "outputs": [],
   "execution_count": null
  },
  {
   "metadata": {},
   "cell_type": "code",
   "source": [
    "import mysql.connector as connector\n",
    "\n",
    "connection = connector.connect(\n",
    "    user=\"dragonalpha\",\n",
    "    password=\"killthemall\",\n",
    "    database=\"LittleLemonDB\"\n",
    ")"
   ],
   "id": "6a2782e1d18f4735",
   "outputs": [],
   "execution_count": null
  },
  {
   "metadata": {},
   "cell_type": "code",
   "source": [
    "cursor = connection.cursor()\n",
    "\n",
    "connection.database"
   ],
   "id": "5e5c5a028fda60d2",
   "outputs": [],
   "execution_count": null
  },
  {
   "metadata": {},
   "cell_type": "code",
   "source": [
    "cursor.execute(\"\"\"CREATE VIEW OrdersView AS\n",
    "SELECT OrderID, Quantity, TotalCost\n",
    "FROM orders\n",
    "WHERE Quantity > 2\"\"\")"
   ],
   "id": "fefcb5697856e732",
   "outputs": [],
   "execution_count": null
  },
  {
   "metadata": {},
   "cell_type": "code",
   "source": [
    "show_tables_query = \"\"\"SHOW tables\"\"\"\n",
    "cursor.execute(show_tables_query)\n",
    "results = cursor.fetchall()\n",
    "cols = cursor.column_names[1:]\n",
    "print(\"Tables in the LittleLemonDB database:\")\n",
    "print(\"--------------------------------------\")\n",
    "print(cols)\n",
    "for result in results:\n",
    "    print(result)"
   ],
   "id": "6226154305c7a565",
   "outputs": [],
   "execution_count": null
  },
  {
   "metadata": {},
   "cell_type": "code",
   "source": [
    "orders_query = \"\"\"SELECT * FROM customerdetails\"\"\" \n",
    "cursor.execute(orders_query)\n",
    "results = cursor.fetchall()\n",
    "cols = cursor.column_names\n",
    "print(cols)\n",
    "for result in results:\n",
    "    print(result)"
   ],
   "id": "af8c7077a0d6192",
   "outputs": [],
   "execution_count": null
  },
  {
   "metadata": {},
   "cell_type": "code",
   "source": [
    "orders_query = \"\"\"SELECT customers.CustomerID, customers.Names, orders.OrderID, orders.TotalCost, menu.Starters, menu.Cuisines, menu.Courses, menu.Drinks, menu.Desserts\n",
    "FROM customerdetails customers INNER JOIN orders\n",
    "ON customers.CustomerID = orders.customerID\n",
    "INNER JOIN menu ON orders.OrderID = menu.OrderID \n",
    "WHERE orders.TotalCost > 150  ORDER BY orders.TotalCost\"\"\" \n",
    "cursor.execute(orders_query)\n",
    "results = cursor.fetchall()\n",
    "cols = cursor.column_names\n",
    "print(cols)\n",
    "for result in results:\n",
    "    print(result)"
   ],
   "id": "22da501f252af426",
   "outputs": [],
   "execution_count": null
  },
  {
   "cell_type": "code",
   "id": "initial_id",
   "metadata": {
    "collapsed": true
   },
   "source": [
    "orders_query = \"\"\"\n",
    "CREATE PROCEDURE GetMaxQuantity()\n",
    "BEGIN\n",
    "    SELECT MAX(quantity) AS 'Max Quantity in Order' FROM orders;\n",
    "END\n",
    "\"\"\"\n",
    "\n",
    "cursor.execute(orders_query)\n"
   ],
   "outputs": [],
   "execution_count": null
  },
  {
   "metadata": {},
   "cell_type": "code",
   "source": [
    "orders_query = \"\"\"PREPARE GetOrderDetail FROM \n",
    "'SELECT OrderID, Quantity, TotalCost FROM Orders WHERE CustomerID = ?'\"\"\"\n",
    "cursor.execute(orders_query)"
   ],
   "id": "411d23d77b232b5e",
   "outputs": [],
   "execution_count": null
  },
  {
   "metadata": {},
   "cell_type": "code",
   "source": [
    "orders_query = \"\"\"\n",
    "CREATE PROCEDURE CancelOrder(IN orderId INT)\n",
    "BEGIN\n",
    "    DELETE FROM Orders WHERE OrderID = orderId;\n",
    "END\n",
    "\"\"\"\n",
    "\n",
    "cursor.execute(orders_query)\n"
   ],
   "id": "e245e6c458c4d92d",
   "outputs": [],
   "execution_count": null
  },
  {
   "metadata": {},
   "cell_type": "code",
   "source": [
    "orders_query = \"\"\"\n",
    "CREATE PROCEDURE CheckBooking(IN booking_date DATE, IN table_number INT)\n",
    "BEGIN\n",
    "    DECLARE bookedTable INT DEFAULT 0;\n",
    "    \n",
    "    SELECT COUNT(*)\n",
    "    INTO bookedTable\n",
    "    FROM Bookings\n",
    "    WHERE `Date` = booking_date AND TableNumber = table_number;\n",
    "    \n",
    "    IF bookedTable > 0 THEN\n",
    "        SELECT CONCAT('Table ', table_number, ' is already booked') AS 'Booking status';\n",
    "    ELSE \n",
    "        SELECT CONCAT('Table ', table_number, ' is not booked') AS 'Booking status';\n",
    "    END IF;\n",
    "END;\n",
    "\"\"\"\n",
    "\n",
    "cursor.execute(orders_query)"
   ],
   "id": "aba03fcbbb645500",
   "outputs": [],
   "execution_count": null
  },
  {
   "metadata": {},
   "cell_type": "code",
   "source": [
    "orders_query = \"\"\"\n",
    "CREATE PROCEDURE AddValidBooking(IN bookingDate DATE, IN tableNumber INT, IN customerName VARCHAR(255))\n",
    "BEGIN\n",
    "    DECLARE existingBookingCount INT;\n",
    "\n",
    "    -- Check if the table is already booked\n",
    "    SELECT COUNT(*) INTO existingBookingCount\n",
    "    FROM Bookings\n",
    "    WHERE `Date` = bookingDate AND TableNumber = tableNumber;\n",
    "\n",
    "    -- Start a transaction\n",
    "    START TRANSACTION;\n",
    "\n",
    "    IF existingBookingCount > 0 THEN\n",
    "        -- The table is already booked, so rollback the transaction\n",
    "        ROLLBACK;\n",
    "        SIGNAL SQLSTATE '45000'\n",
    "        SET MESSAGE_TEXT = 'Table is already booked for this date.';\n",
    "    ELSE\n",
    "        -- The table is available, so insert the new booking\n",
    "        INSERT INTO Bookings (`Date`, TableNumber, CustomerName)\n",
    "        VALUES (bookingDate, tableNumber, customerName);\n",
    "\n",
    "        -- Commit the transaction\n",
    "        COMMIT;\n",
    "    END IF;\n",
    "END\n",
    "\"\"\"\n",
    "\n",
    "cursor.execute(orders_query)"
   ],
   "id": "d9dafd1041902b37",
   "outputs": [],
   "execution_count": null
  },
  {
   "metadata": {},
   "cell_type": "code",
   "source": [
    "orders_query = \"\"\"\n",
    "CREATE PROCEDURE UpdateBooking(IN booking_date DATE, IN booking_id INT)\n",
    "BEGIN\n",
    "  UPDATE bookings\n",
    "  SET `Date` = booking_date\n",
    "  WHERE BookingID = booking_id;\n",
    "\n",
    "  SELECT CONCAT('Booking ', booking_id, ' updated') AS Confirmation;\n",
    "END\n",
    "\"\"\"\n",
    "\n",
    "cursor.execute(orders_query)"
   ],
   "id": "d1bc3cdc0b9e2cb",
   "outputs": [],
   "execution_count": null
  },
  {
   "metadata": {},
   "cell_type": "code",
   "source": [
    "orders_query = \"\"\"\n",
    "CREATE PROCEDURE CancelBooking(IN booking_id_to_cancel INT)\n",
    "BEGIN\n",
    "  DELETE FROM Bookings\n",
    "  WHERE BookingID = booking_id_to_cancel;\n",
    "\n",
    "  SELECT CONCAT('Booking ', booking_id_to_cancel, ' cancelled') AS Confirmation;\n",
    "END\n",
    "\"\"\"\n",
    "\n",
    "cursor.execute(orders_query)"
   ],
   "id": "537c0b83e9d5f595",
   "outputs": [],
   "execution_count": null
  },
  {
   "metadata": {},
   "cell_type": "code",
   "source": "",
   "id": "4ae2ae7431ebcfb7",
   "outputs": [],
   "execution_count": null
  },
  {
   "metadata": {},
   "cell_type": "code",
   "source": "",
   "id": "713f699e42577687",
   "outputs": [],
   "execution_count": null
  }
 ],
 "metadata": {
  "kernelspec": {
   "display_name": "Python 3",
   "language": "python",
   "name": "python3"
  },
  "language_info": {
   "codemirror_mode": {
    "name": "ipython",
    "version": 2
   },
   "file_extension": ".py",
   "mimetype": "text/x-python",
   "name": "python",
   "nbconvert_exporter": "python",
   "pygments_lexer": "ipython2",
   "version": "2.7.6"
  }
 },
 "nbformat": 4,
 "nbformat_minor": 5
}
